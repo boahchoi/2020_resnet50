{
 "cells": [
  {
   "cell_type": "code",
   "execution_count": null,
   "metadata": {},
   "outputs": [],
   "source": [
    "# python version = 3.6 \n",
    "# 400\n",
    "from urllib.request import urlopen\n",
    "from urllib.request import urlretrieve \n",
    "from urllib.parse import quote_plus  # 한글을 컴퓨팅 언어로 바꿔줌 \n",
    "from bs4 import BeautifulSoup  # 크롤링 라이브러리\n",
    "from selenium import webdriver # 웹드라이브 여는데 필요 \n",
    "from webdriver_manager.chrome import ChromeDriverManager\n",
    "import time\n",
    "\n",
    "search = 'tiger'\n",
    "url = f'https://www.google.com/search?q={quote_plus(search)}&source=inms&tbm=isch&sa=X&ved=2haUKEwid64aF87LoAhUafd4KHcEtBZEQ_AUoAXoECBgQAw&biw=1536&bih=754'\n",
    "\n",
    "driver = webdriver.Chrome(ChromeDriverManager().install()) #download the desired browser driver executable\n",
    "driver.get(url)\n",
    "driver.implicitly_wait(3)\n",
    "\n",
    "for i in range(500):  #스크롤 내리도록 하는 명령어 \n",
    "    try:\n",
    "        element = driver.find_elements_by_class_name('YstHxe')\n",
    "        element.click()\n",
    "    except:\n",
    "        pass\n",
    "    driver.execute_script(\"window.scrollBy(0,10000)\") #window.scrollBy 브라우저 스스로 스크롤을 내리게 하는 명령어이고 뒤에 ()안에 0, 10000이 스크롤을 어느 정도할지 설정하는 값\n",
    "\n",
    "html = driver.page_source\n",
    "soup = BeautifulSoup(html)\n",
    "img = soup.select('.rg_i.Q4LuWd')\n",
    "n = 1\n",
    "imgurl = []\n",
    " \n",
    "for i in img:\n",
    "    try:\n",
    "        imgurl.append(i.attrs[\"src\"])\n",
    "    except KeyError:\n",
    "        imgurl.append(i.attrs[\"data-src\"])\n",
    "\n",
    "for i in imgurl:\n",
    "    urlretrieve(i, \"C:/Users/UserDesktop/tiger/\" + search + '_' + str(n) + \".jpg\")\n",
    "    n += 1 \n",
    "    print(imgurl)\n",
    "    if (n ==500):\n",
    "        break \n",
    "      \n",
    "driver.close() "
   ]
  }
 ],
 "metadata": {
  "kernelspec": {
   "display_name": "Python 3",
   "language": "python",
   "name": "python3"
  },
  "language_info": {
   "codemirror_mode": {
    "name": "ipython",
    "version": 3
   },
   "file_extension": ".py",
   "mimetype": "text/x-python",
   "name": "python",
   "nbconvert_exporter": "python",
   "pygments_lexer": "ipython3",
   "version": "3.7.7"
  }
 },
 "nbformat": 4,
 "nbformat_minor": 4
}
