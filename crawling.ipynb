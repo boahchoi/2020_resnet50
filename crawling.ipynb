{
 "cells": [
  {
   "cell_type": "code",
   "execution_count": 2,
   "metadata": {},
   "outputs": [],
   "source": [
    "import os\n",
    "from urllib.request import urlopen\n",
    "from bs4 import BeautifulSoup as bs\n",
    "from urllib.parse import quote_plus\n",
    "\n",
    "baseUrl = 'https://search.naver.com/search.naver?where=image&sm=tab_jum&query='\n",
    "\n",
    "save_root = 'downloads'\n",
    "if not os.path.exists(save_root):os.makedirs(save_root)\n",
    "\n",
    "def get_images(query='apple', limit=20):\n",
    "    save_path = os.path.join(save_root, query)\n",
    "    if not os.path.exists(save_path):\n",
    "        os.makedirs(save_path)\n",
    "    \n",
    "    # 한글 검색 자동 변환\n",
    "    url = baseUrl + quote_plus(query)\n",
    "    html = urlopen(url)\n",
    "    soup = bs(html, \"html.parser\")\n",
    "    img = soup.find_all(class_='_img', limit=limit)\n",
    "\n",
    "    n = 1\n",
    "    for i in img:\n",
    "        imgUrl = i['data-source']\n",
    "        with urlopen(imgUrl) as f:\n",
    "            with open(os.path.join(save_path, str(n)+'.jpg'),'wb') as h: # w - write b - binary\n",
    "                img = f.read()\n",
    "                h.write(img)\n",
    "        n += 1\n",
    "    print('%s download complete' % (query))"
   ]
  },
  {
   "cell_type": "code",
   "execution_count": 4,
   "metadata": {},
   "outputs": [
    {
     "name": "stdout",
     "output_type": "stream",
     "text": [
      "개 download complete\n",
      "고양이 download complete\n",
      "호랑이 download complete\n",
      "done!!\n"
     ]
    }
   ],
   "source": [
    "queries =  ['개',\n",
    "            '고양이',\n",
    "           '호랑이']\n",
    "\n",
    "num_limit = 1100\n",
    "    \n",
    "for query in queries:\n",
    "    get_images(query=query, limit=num_limit)\n",
    "    \n",
    "print('done!!');beep = lambda x: os.system(\"echo -n '\\a';sleep 0.3;\" * x);beep(3);"
   ]
  }
 ],
 "metadata": {
  "kernelspec": {
   "display_name": "Python 3",
   "language": "python",
   "name": "python3"
  },
  "language_info": {
   "codemirror_mode": {
    "name": "ipython",
    "version": 3
   },
   "file_extension": ".py",
   "mimetype": "text/x-python",
   "name": "python",
   "nbconvert_exporter": "python",
   "pygments_lexer": "ipython3",
   "version": "3.7.7"
  }
 },
 "nbformat": 4,
 "nbformat_minor": 4
}
